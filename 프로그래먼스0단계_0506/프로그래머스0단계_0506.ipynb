{
  "nbformat": 4,
  "nbformat_minor": 0,
  "metadata": {
    "colab": {
      "provenance": []
    },
    "kernelspec": {
      "name": "python3",
      "display_name": "Python 3"
    },
    "language_info": {
      "name": "python"
    }
  },
  "cells": [
    {
      "cell_type": "code",
      "execution_count": null,
      "metadata": {
        "id": "qnArcSnTOUIr"
      },
      "outputs": [],
      "source": [
        "# 공배수\n",
        "# 정수 number와 n, m이 주어집니다. number가 n의 배수이면서 m의 배수이면 1을 아니라면 0을 return하도록 solution 함수를 완성해주세요.\n",
        "\n",
        "def solution(number, n, m):\n",
        "    if number % n == 0 and number % m == 0:\n",
        "        return 1\n",
        "    else:\n",
        "        return 0"
      ]
    },
    {
      "cell_type": "code",
      "source": [
        "# 순서쌍의 개수\n",
        "# 순서쌍이란 두 개의 숫자를 순서를 정하여 짝지어 나타낸 쌍으로 (a, b)로 표기합니다.\n",
        "# 자연수 n이 매개변수로 주어질 때 두 숫자의 곱이 n인 자연수 순서쌍의 개수를 return하도록 solution 함수를 완성해주세요.\n",
        "\n",
        "def solution(n):\n",
        "    count = 0\n",
        "    for i in range(1,n+1):\n",
        "        if n % i == 0:\n",
        "            count += 1\n",
        "        else:\n",
        "            continue\n",
        "    return count\n",
        "            "
      ],
      "metadata": {
        "id": "jGcoWGgSO-3z"
      },
      "execution_count": null,
      "outputs": []
    },
    {
      "cell_type": "code",
      "source": [
        "# 삼각형의 완성조건 (1)\n",
        "# 선분 세 개로 삼각형을 만들기 위해서는 다음과 같은 조건을 만족해야 합니다.\n",
        "# 가장 긴 변의 길이는 다른 두 변의 길이의 합보다 작아야 합니다.\n",
        "# 삼각형의 세 변의 길이가 담긴 배열 sides이 매개변수로 주어집니다. 세 변으로 삼각형을 만들 수 있다면 1, 만들 수 없다면 2를 return하도록 solution 함수를 완성해주세요.\n",
        "\n",
        "def solution(sides):\n",
        "    len = sorted(sides)\n",
        "    if len[2] < len[0] + len[1]:\n",
        "        return 1\n",
        "    else:\n",
        "        return 2"
      ],
      "metadata": {
        "id": "SDBsjJRIQdIR"
      },
      "execution_count": null,
      "outputs": []
    },
    {
      "cell_type": "code",
      "source": [
        "# 최댓값 만들기 (1)\n",
        "# 정수 배열 numbers가 매개변수로 주어집니다. numbers의 원소 중 두 개를 곱해 만들 수 있는 최댓값을 return하도록 solution 함수를 완성해주세요.\n",
        "\n",
        "def solution(numbers):\n",
        "    list = sorted(numbers)\n",
        "    list.reverse()\n",
        "    return list[0] * list[1]"
      ],
      "metadata": {
        "id": "W-00dJBfRyXB"
      },
      "execution_count": null,
      "outputs": []
    },
    {
      "cell_type": "code",
      "source": [
        "# 편지\n",
        "# 머쓱이는 할머니께 생신 축하 편지를 쓰려고 합니다.\n",
        "# 할머니가 보시기 편하도록 글자 한 자 한 자를 가로 2cm 크기로 적으려고 하며, \n",
        "# 편지를 가로로만 적을 때, 축하 문구 message를 적기 위해 필요한 편지지의 최소 가로길이를 return 하도록 solution 함수를 완성해주세요.\n",
        "\n",
        "def solution(message):\n",
        "    letter = len(message)\n",
        "    return letter * 2 "
      ],
      "metadata": {
        "id": "8XY-FnMlSRyy"
      },
      "execution_count": null,
      "outputs": []
    },
    {
      "cell_type": "code",
      "source": [
        "# 분수의 덧셈\n",
        "# 첫 번째 분수의 분자와 분모를 뜻하는 numer1, denom1, 두 번째 분수의 분자와 분모를 뜻하는 numer2, denom2가 매개변수로 주어집니다.\n",
        "# 두 분수를 더한 값을 기약 분수로 나타냈을 때 분자와 분모를 순서대로 담은 배열을 return 하도록 solution 함수를 완성해보세요.\n",
        "\n",
        "def solution(numer1, denom1, numer2, denom2):\n",
        "    add_numer = numer1 * denom2 + numer2 * denom1\n",
        "    add_denom = denom1 * denom2\n",
        "    for i in range(1, min(add_numer, add_denom)+1):\n",
        "        if add_numer % i == 0 and add_denom % i == 0:\n",
        "            result_numer = add_numer // i\n",
        "            result_denom = add_denom // i\n",
        "    return (result_numer,result_denom)\n",
        "       "
      ],
      "metadata": {
        "id": "G6VmcyDqaY9j"
      },
      "execution_count": null,
      "outputs": []
    }
  ]
}