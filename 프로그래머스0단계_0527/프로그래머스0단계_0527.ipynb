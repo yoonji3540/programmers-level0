{
  "nbformat": 4,
  "nbformat_minor": 0,
  "metadata": {
    "colab": {
      "provenance": []
    },
    "kernelspec": {
      "name": "python3",
      "display_name": "Python 3"
    },
    "language_info": {
      "name": "python"
    }
  },
  "cells": [
    {
      "cell_type": "code",
      "execution_count": null,
      "metadata": {
        "id": "-pUJ8u6j8QbK"
      },
      "outputs": [],
      "source": [
        "# 외계어 사전\n",
        "# PROGRAMMERS-962 행성에 불시착한 우주비행사 머쓱이는 외계행성의 언어를 공부하려고 합니다.\n",
        "# 알파벳이 담긴 배열 spell과 외계어 사전 dic이 매개변수로 주어집니다.\n",
        "# spell에 담긴 알파벳을 한번씩만 모두 사용한 단어가 dic에 존재한다면 1, 존재하지 않는다면 2를 return하도록 solution 함수를 완성해주세요.\n",
        "function solution(spell, dic) {\n",
        "  let answer = 0\n",
        "  spell = spell.sort().join('')\n",
        "  answer = dic.map(e => e.split('').sort().join('')).find(e => e === spell) !== undefined ? 1 : 2\n",
        "  return answer"
      ]
    }
  ]
}