{
  "nbformat": 4,
  "nbformat_minor": 0,
  "metadata": {
    "colab": {
      "provenance": []
    },
    "kernelspec": {
      "name": "python3",
      "display_name": "Python 3"
    },
    "language_info": {
      "name": "python"
    }
  },
  "cells": [
    {
      "cell_type": "code",
      "source": [
        "# 문자열안에 문자열\n",
        "# 문자열 str1, str2가 매개변수로 주어집니다.\n",
        "# str1 안에 str2가 있다면 1을 없다면 2를 return하도록 solution 함수를 완성해주세요.\n",
        "\n",
        "def solution(str1, str2):\n",
        "    if str2 in str1:\n",
        "        return 1\n",
        "    else:\n",
        "        return 2"
      ],
      "metadata": {
        "id": "PpOhaGbfbmx8"
      },
      "execution_count": null,
      "outputs": []
    },
    {
      "cell_type": "code",
      "source": [
        "# 소인수분해\n",
        "# 소인수분해란 어떤 수를 소수들의 곱으로 표현하는 것입니다. 예를 들어 12를 소인수 분해하면 2 * 2 * 3 으로 나타낼 수 있습니다.\n",
        "# 따라서 12의 소인수는 2와 3입니다. 자연수 n이 매개변수로 주어질 때 n의 소인수를 오름차순으로 담은 배열을 return하도록 solution 함수를 완성해주세요.\n",
        "\n",
        "def solution(n):\n",
        "    answer = []\n",
        "    i = 2\n",
        "    while i <= n:\n",
        "        if n % i == 0:\n",
        "            answer.append(i)\n",
        "            n = n // i\n",
        "        else:\n",
        "            i += 1\n",
        "    return sorted(list(set(answer))) # set을 사용하여 중복된 숫자를 하나의 숫자로 만들고 오름차순으로"
      ],
      "metadata": {
        "id": "8c_WE2tkjH_U"
      },
      "execution_count": null,
      "outputs": []
    }
  ]
}