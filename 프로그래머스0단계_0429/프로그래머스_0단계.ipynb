{
  "nbformat": 4,
  "nbformat_minor": 0,
  "metadata": {
    "colab": {
      "provenance": []
    },
    "kernelspec": {
      "name": "python3",
      "display_name": "Python 3"
    },
    "language_info": {
      "name": "python"
    }
  },
  "cells": [
    {
      "cell_type": "code",
      "execution_count": 2,
      "metadata": {
        "id": "iVyOvW3gMK9r"
      },
      "outputs": [],
      "source": [
        "# 나머지 구하기\n",
        "# 정수 num1, num2가 매개변수로 주어질 때, num1를 num2로 나눈 나머지를 return 하도록 solution 함수를 완성해주세요.\n",
        "\n",
        "def solution(num1, num2):\n",
        "    answer = num1 % num2\n",
        "    return answer"
      ]
    },
    {
      "cell_type": "code",
      "source": [
        "# 두 수의 곱\n",
        "# 정수 num1, num2가 매개변수 주어집니다. num1과 num2를 곱한 값을 return 하도록 solution 함수를 완성해주세요.\n",
        "\n",
        "def solution(num1, num2):\n",
        "    answer = num1 * num2\n",
        "    return answer"
      ],
      "metadata": {
        "id": "mUVeMfc8Mhil"
      },
      "execution_count": 3,
      "outputs": []
    },
    {
      "cell_type": "code",
      "source": [
        "# 두 수의 차\n",
        "# 정수 num1과 num2가 주어질 때, num1에서 num2를 뺀 값을 return하도록 soltuion 함수를 완성해주세요.\n",
        "\n",
        "def solution(num1, num2):\n",
        "    answer = num1 - num2 \n",
        "    return answer"
      ],
      "metadata": {
        "id": "5hrfnVm2Mor7"
      },
      "execution_count": 4,
      "outputs": []
    },
    {
      "cell_type": "code",
      "source": [
        "# 숫자 비교하기\n",
        "# 정수 num1과 num2가 매개변수로 주어집니다. 두 수가 같으면 1 다르면 -1을 retrun하도록 solution 함수를 완성해주세요.\n",
        "\n",
        "def solution(num1, num2):\n",
        "    if num1 == num2:\n",
        "        return 1\n",
        "    \n",
        "    else:\n",
        "        return -1"
      ],
      "metadata": {
        "id": "YwmAlAogMveq"
      },
      "execution_count": 6,
      "outputs": []
    },
    {
      "cell_type": "code",
      "source": [
        "# 몫 구하기\n",
        "# 정수 num1, num2가 매개변수로 주어질 때, num1을 num2로 나눈 몫을 return 하도록 solution 함수를 완성해주세요.\n",
        "\n",
        "def solution(num1, num2):\n",
        "    answer = num1 // num2\n",
        "    return answer"
      ],
      "metadata": {
        "id": "Gam1EyxLM2xw"
      },
      "execution_count": 7,
      "outputs": []
    },
    {
      "cell_type": "code",
      "source": [
        "# 나이 출력\n",
        "# 머쓱이는 40살인 선생님이 몇 년도에 태어났는지 궁금해졌습니다. 나이 age가 주어질 때, 2022년을 기준 출생 연도를 return 하는 solution 함수를 완성해주세요.\n",
        "\n",
        "def solution(age):\n",
        "    birth = 2022 - age + 1\n",
        "    return birth"
      ],
      "metadata": {
        "id": "ClTS18rJM83w"
      },
      "execution_count": 9,
      "outputs": []
    },
    {
      "cell_type": "code",
      "source": [
        "# 두 수의 합\n",
        "# 정수 num1과 num2가 주어질 때, num1과 num2의 합을 return하도록 soltuion 함수를 완성해주세요.\n",
        "\n",
        "def solution(num1, num2):\n",
        "    answer = num1 + num2\n",
        "    return answer"
      ],
      "metadata": {
        "id": "2Q7dbnm0NCwj"
      },
      "execution_count": 10,
      "outputs": []
    },
    {
      "cell_type": "code",
      "source": [
        "# 두 수의 나눗셈\n",
        "# 정수 num1과 num2가 매개변수로 주어질 때, num1을 num2로 나눈 값에 1,000을 곱한 후 정수 부분을 return 하도록 soltuion 함수를 완성해주세요.\n",
        "\n",
        "def solution(num1, num2):\n",
        "    answer = int (num1 / num2 * 1000)\n",
        "    return answer"
      ],
      "metadata": {
        "id": "Nl9FPQ_YNJTD"
      },
      "execution_count": 11,
      "outputs": []
    },
    {
      "cell_type": "code",
      "source": [
        "# 각도기\n",
        "# 각에서 0도 초과 90도 미만은 예각, 90도는 직각, 90도 초과 180도 미만은 둔각 180도는 평각으로 분류합니다. 각 angle이 매개변수로 주어질 때 예각일 때 1, 직각일 때 2, 둔각일 때 3, 평각일 때 4를 return하도록 solution 함수를 완성해주세요.\n",
        "\n",
        "def solution(angle):\n",
        "    if angle < 90 :\n",
        "        return 1\n",
        "    elif angle == 90 :\n",
        "        return 2\n",
        "    elif angle <180 :\n",
        "        return 3\n",
        "    else :\n",
        "        return 4"
      ],
      "metadata": {
        "id": "u51ycoI4NPYR"
      },
      "execution_count": 12,
      "outputs": []
    },
    {
      "cell_type": "code",
      "source": [
        "# 양꼬치\n",
        "# 머쓱이네 양꼬치 가게는 10인분을 먹으면 음료수 하나를 서비스로 줍니다. 양꼬치는 1인분에 12,000원, 음료수는 2,000원입니다. 정수 n과 k가 매개변수로 주어졌을 때, 양꼬치 n인분과 음료수 k개를 먹었다면 총얼마를 지불해야 하는지 return 하도록 solution 함수를 완성해보세요.\n",
        "\n",
        "def solution(n, k):\n",
        "    answer = 12000 * n + 2000 * k - 2000 * (n // 10)\n",
        "    return answer"
      ],
      "metadata": {
        "id": "YdSg62wLNYGc"
      },
      "execution_count": 13,
      "outputs": []
    }
  ]
}