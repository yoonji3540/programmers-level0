{
  "nbformat": 4,
  "nbformat_minor": 0,
  "metadata": {
    "colab": {
      "provenance": []
    },
    "kernelspec": {
      "name": "python3",
      "display_name": "Python 3"
    },
    "language_info": {
      "name": "python"
    }
  },
  "cells": [
    {
      "cell_type": "markdown",
      "source": [
        "# n의 배수 고르기"
      ],
      "metadata": {
        "id": "0Ejhyma1MoJD"
      }
    },
    {
      "cell_type": "code",
      "execution_count": null,
      "metadata": {
        "id": "nWBn8NZwMmuo"
      },
      "outputs": [],
      "source": [
        "# 정수 n과 정수 배열 numlist가 매개변수로 주어질 때, numlist에서 n의 배수가 아닌 수들을 제거한 배열을 return하도록 solution 함수를 완성해주세요."
      ]
    },
    {
      "cell_type": "code",
      "source": [
        "def solution(n, numlist):\n",
        "    answer = list(filter(lambda x : x % n == 0, numlist))\n",
        "    return answer"
      ],
      "metadata": {
        "id": "1ijCAsCDMuEI"
      },
      "execution_count": null,
      "outputs": []
    },
    {
      "cell_type": "markdown",
      "source": [
        "# 영어가 싫어요"
      ],
      "metadata": {
        "id": "xqtECHNfSqxR"
      }
    },
    {
      "cell_type": "code",
      "source": [
        "# 영어가 싫은 머쓱이는 영어로 표기되어있는 숫자를 수로 바꾸려고 합니다.\n",
        "# 문자열 numbers가 매개변수로 주어질 때, numbers를 정수로 바꿔 return 하도록 solution 함수를 완성해 주세요.\n",
        "\n"
      ],
      "metadata": {
        "id": "M_YtfTl4Sr3h"
      },
      "execution_count": null,
      "outputs": []
    },
    {
      "cell_type": "code",
      "source": [
        "def solution(numbers):\n",
        "    numbers = numbers.replace('one', '1')\n",
        "    numbers = numbers.replace('two', '2')\n",
        "    numbers = numbers.replace('three', '3')\n",
        "    numbers = numbers.replace('four', '4')\n",
        "    numbers = numbers.replace('five', '5')\n",
        "    numbers = numbers.replace('six', '6')\n",
        "    numbers = numbers.replace('seven', '7')\n",
        "    numbers = numbers.replace('eight', '8')\n",
        "    numbers = numbers.replace('nine', '9')\n",
        "    numbers = numbers.replace('zero', '0')\n",
        "    return int(numbers)"
      ],
      "metadata": {
        "id": "YSVfNcGDSvNQ"
      },
      "execution_count": null,
      "outputs": []
    }
  ]
}