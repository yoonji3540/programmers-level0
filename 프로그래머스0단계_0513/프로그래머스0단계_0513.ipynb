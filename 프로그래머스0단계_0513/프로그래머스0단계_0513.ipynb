{
  "nbformat": 4,
  "nbformat_minor": 0,
  "metadata": {
    "colab": {
      "provenance": []
    },
    "kernelspec": {
      "name": "python3",
      "display_name": "Python 3"
    },
    "language_info": {
      "name": "python"
    }
  },
  "cells": [
    {
      "cell_type": "code",
      "execution_count": 14,
      "metadata": {
        "id": "tRcaBL8CNkPs"
      },
      "outputs": [],
      "source": [
        "# 숨어있는 숫자의 덧셈 (1)\n",
        "# 문자열 my_string이 매개변수로 주어집니다. my_string안의 모든 자연수들의 합을 return하도록 solution 함수를 완성해주세요.\n",
        "\n",
        "def solution(my_string):\n",
        "    total = 0\n",
        "    for i in my_string:\n",
        "        if i.isdigit():\n",
        "            total += int(i)\n",
        "    return total"
      ]
    }
  ]
}