{
  "nbformat": 4,
  "nbformat_minor": 0,
  "metadata": {
    "colab": {
      "provenance": []
    },
    "kernelspec": {
      "name": "python3",
      "display_name": "Python 3"
    },
    "language_info": {
      "name": "python"
    }
  },
  "cells": [
    {
      "cell_type": "code",
      "execution_count": null,
      "metadata": {
        "id": "CvQtyIDcV6ij"
      },
      "outputs": [],
      "source": [
        "# 팩토리얼\n",
        "# i팩토리얼 (i!)은 1부터 i까지 정수의 곱을 의미합니다.\n",
        "# 예를들어 5! = 5 * 4 * 3 * 2 * 1 = 120 입니다. 정수 n이 주어질 때 다음 조건을 만족하는 가장 큰 정수 i를 return 하도록 solution 함수를 완성해주세요.\n",
        "# i! ≤ n\n",
        "\n",
        "def solution(n):\n",
        "    answer = 1\n",
        "    fac = 1\n",
        "    while fac <= n :\n",
        "        answer += 1\n",
        "        fac = fac * answer\n",
        "    answer = answer-1\n",
        "    \n",
        "    return answer"
      ]
    },
    {
      "cell_type": "code",
      "source": [
        "# 문자열 정렬하기 (1)\n",
        "# 문자열 my_string이 매개변수로 주어질 때, my_string 안에 있는 숫자만 골라 오름차순 정렬한 리스트를 return 하도록 solution 함수를 작성해보세요.\n",
        "\n",
        "def solution(my_string):\n",
        "    trans_list = list(my_string)\n",
        "    new_list = []\n",
        "    for i in trans_list:\n",
        "        if i.isdigit():\n",
        "            new_list.append(int(i))\n",
        "    sorted_list = sorted(new_list)\n",
        "    return sorted_list"
      ],
      "metadata": {
        "id": "NIxzbUiFWfGg"
      },
      "execution_count": null,
      "outputs": []
    }
  ]
}