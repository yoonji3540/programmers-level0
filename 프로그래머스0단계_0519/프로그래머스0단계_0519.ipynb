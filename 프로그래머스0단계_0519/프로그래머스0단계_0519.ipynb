{
  "nbformat": 4,
  "nbformat_minor": 0,
  "metadata": {
    "colab": {
      "provenance": []
    },
    "kernelspec": {
      "name": "python3",
      "display_name": "Python 3"
    },
    "language_info": {
      "name": "python"
    }
  },
  "cells": [
    {
      "cell_type": "code",
      "source": [
        "# 외계행성의 나이\n",
        "# 우주여행을 하던 머쓱이는 엔진 고장으로 PROGRAMMERS-962 행성에 불시착하게 됐습니다.\n",
        "# 입국심사에서 나이를 말해야 하는데, PROGRAMMERS-962 행성에서는 나이를 알파벳으로 말하고 있습니다.\n",
        "# a는 0, b는 1, c는 2, ..., j는 9입니다. 예를 들어 23살은 cd, 51살은 fb로 표현합니다.\n",
        "# 나이 age가 매개변수로 주어질 때 PROGRAMMER-962식 나이를 return하도록 solution 함수를 완성해주세요.\n",
        "\n",
        "def solution(age):\n",
        "    change = str.maketrans('0123456789','abcdefghij')\n",
        "    new_age = str(age).translate(change)\n",
        "    return new_age"
      ],
      "metadata": {
        "id": "o_iIymWTf-na"
      },
      "execution_count": null,
      "outputs": []
    },
    {
      "cell_type": "code",
      "source": [
        "# 진료 순서 정하기\n",
        "# 외과의사 머쓱이는 응급실에 온 환자의 응급도를 기준으로 진료 순서를 정하려고 합니다.\n",
        "# 정수 배열 emergency가 매개변수로 주어질 때 응급도가 높은 순서대로 진료 순서를 정한 배열을 return하도록 solution 함수를 완성해주세요.\n",
        "\n",
        "def solution(emergency):\n",
        "    num_dict = {value: i+1 for i, value in enumerate(sorted(emergency, reverse=True))}\n",
        "    result = [num_dict[value] for value in emergency]\n",
        "    return result"
      ],
      "metadata": {
        "id": "E3yWJ7roqelp"
      },
      "execution_count": null,
      "outputs": []
    },
    {
      "cell_type": "code",
      "source": [
        "# 개미 군단\n",
        "# 개미 군단이 사냥을 나가려고 합니다. 개미군단은 사냥감의 체력에 딱 맞는 병력을 데리고 나가려고 합니다.\n",
        "# 장군개미는 5의 공격력을, 병정개미는 3의 공격력을 일개미는 1의 공격력을 가지고 있습니다.\n",
        "# 예를 들어 체력 23의 여치를 사냥하려고 할 때, 일개미 23마리를 데리고 가도 되지만,\n",
        "# 장군개미 네 마리와 병정개미 한 마리를 데리고 간다면 더 적은 병력으로 사냥할 수 있습니다.\n",
        "# 사냥감의 체력 hp가 매개변수로 주어질 때, 사냥감의 체력에 딱 맞게 최소한의 병력을 구성하려면 몇 마리의 개미가 필요한지를 return하도록 solution 함수를 완성해주세요.\n",
        "\n",
        "def solution(hp):\n",
        "    장군 = hp // 5\n",
        "    병정 = (hp - 장군 * 5) // 3\n",
        "    일개미 = hp - 장군 * 5 - 병정 * 3\n",
        "    return (장군 + 병정 + 일개미)"
      ],
      "metadata": {
        "id": "pzdPGmRVv4_w"
      },
      "execution_count": null,
      "outputs": []
    },
    {
      "cell_type": "code",
      "source": [
        "# 모스부호 (1)\n",
        "# 머쓱이는 친구에게 모스부호를 이용한 편지를 받았습니다. \n",
        "# 그냥은 읽을 수 없어 이를 해독하는 프로그램을 만들려고 합니다.\n",
        "# 문자열 letter가 매개변수로 주어질 때, letter를 영어 소문자로 바꾼 문자열을 return 하도록 solution 함수를 완성해보세요.\n",
        "# 모스부호는 다음과 같습니다.\n",
        "\n",
        "def solution(letter):\n",
        "    morse = { \n",
        "    '.-':'a','-...':'b','-.-.':'c','-..':'d','.':'e','..-.':'f',\n",
        "    '--.':'g','....':'h','..':'i','.---':'j','-.-':'k','.-..':'l',\n",
        "    '--':'m','-.':'n','---':'o','.--.':'p','--.-':'q','.-.':'r',\n",
        "    '...':'s','-':'t','..-':'u','...-':'v','.--':'w','-..-':'x',\n",
        "    '-.--':'y','--..':'z'}\n",
        "    change = [morse[value] for value in letter.split(' ')]\n",
        "    answer = ''.join(change)\n",
        "    return answer"
      ],
      "metadata": {
        "id": "p8TZIYgx0fep"
      },
      "execution_count": null,
      "outputs": []
    },
    {
      "cell_type": "code",
      "source": [
        "# 가위 바위 보\n",
        "# 가위는 2 바위는 0 보는 5로 표현합니다.\n",
        "# 가위 바위 보를 내는 순서대로 나타낸 문자열 rsp가 매개변수로 주어질 때,\n",
        "# rsp에 저장된 가위 바위 보를 모두 이기는 경우를 순서대로 나타낸 문자열을 return하도록 solution 함수를 완성해보세요.\n",
        "\n",
        "def solution(rsp):\n",
        "    win_plan = {'2':'0', '0':'5', '5':'2'}\n",
        "    list_rsp = list(rsp)\n",
        "    win_rsp = [win_plan[value] for value in list_rsp]\n",
        "    answer = ''.join(win_rsp)\n",
        "    return answer"
      ],
      "metadata": {
        "id": "hbZ_nJcw3qRb"
      },
      "execution_count": null,
      "outputs": []
    },
    {
      "cell_type": "code",
      "source": [
        "# 구슬을 나누는 경우의 수\n",
        "# 머쓱이는 구슬을 친구들에게 나누어주려고 합니다. 구슬은 모두 다르게 생겼습니다.\n",
        "# 머쓱이가 갖고 있는 구슬의 개수 balls와 친구들에게 나누어 줄 구슬 개수 share이 매개변수로 주어질 때,\n",
        "# balls개의 구슬 중 share개의 구슬을 고르는 가능한 모든 경우의 수를 return 하는 solution 함수를 완성해주세요.\n",
        "\n",
        "import math\n",
        "\n",
        "def solution(balls, share):\n",
        "    result = math.comb(balls, share)\n",
        "    return result"
      ],
      "metadata": {
        "id": "zH6PCyCi56ZZ"
      },
      "execution_count": null,
      "outputs": []
    },
    {
      "cell_type": "code",
      "source": [
        "# 2차원으로 만들기\n",
        "# 정수 배열 num_list와 정수 n이 매개변수로 주어집니다.\n",
        "# num_list를 다음 설명과 같이 2차원 배열로 바꿔 return하도록 solution 함수를 완성해주세요.\n",
        "# num_list가 [1, 2, 3, 4, 5, 6, 7, 8] 로 길이가 8이고 n이 2이므로 num_list를 2 * 4 배열로 다음과 같이 변경합니다.\n",
        "# 2차원으로 바꿀 때에는 num_list의 원소들을 앞에서부터 n개씩 나눠 2차원 배열로 변경합니다.\n",
        "\n",
        "def solution(num_list, n):\n",
        "    answer = []\n",
        "    for i in range(0, len(num_list), n):\n",
        "        answer.append(num_list[i:i+n])\n",
        "    return answer"
      ],
      "metadata": {
        "id": "7N9THZoVElT9"
      },
      "execution_count": null,
      "outputs": []
    },
    {
      "cell_type": "code",
      "source": [
        "# 공 던지기\n",
        "# 머쓱이는 친구들과 동그랗게 서서 공 던지기 게임을 하고 있습니다. 공은 1번부터 던지며 오른쪽으로 한 명을 건너뛰고 그다음 사람에게만 던질 수 있습니다.\n",
        "# 친구들의 번호가 들어있는 정수 배열 numbers와 정수 K가 주어질 때, k번째로 공을 던지는 사람의 번호는 무엇인지 return 하도록 solution 함수를 완성해보세요.\n",
        "\n",
        "def solution(numbers, k):\n",
        "    answer = numbers[2*(k-1) % len(numbers)]\n",
        "    return answer"
      ],
      "metadata": {
        "id": "BLRW0rNyNQGs"
      },
      "execution_count": null,
      "outputs": []
    },
    {
      "cell_type": "code",
      "source": [
        "# 배열 회전시키기\n",
        "# 정수가 담긴 배열 numbers와 문자열 direction가 매개변수로 주어집니다.\n",
        "# 배열 numbers의 원소를 direction방향으로 한 칸씩 회전시킨 배열을 return하도록 solution 함수를 완성해주세요.\n",
        "\n",
        "def solution(numbers, direction):\n",
        "    n = len(numbers)\n",
        "    if direction == 'right':\n",
        "        right_1 = numbers[:-1]\n",
        "        right_1.insert(0, numbers[n-1])\n",
        "        answer = right_1\n",
        "        \n",
        "    elif direction == 'left':\n",
        "        left_1 = numbers[1:]\n",
        "        left_1.append(numbers[0])\n",
        "        answer = left_1\n",
        "        \n",
        "    return answer"
      ],
      "metadata": {
        "id": "lO38KFimTFZC"
      },
      "execution_count": null,
      "outputs": []
    }
  ]
}