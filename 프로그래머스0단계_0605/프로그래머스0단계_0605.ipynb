{
  "nbformat": 4,
  "nbformat_minor": 0,
  "metadata": {
    "colab": {
      "provenance": []
    },
    "kernelspec": {
      "name": "python3",
      "display_name": "Python 3"
    },
    "language_info": {
      "name": "python"
    }
  },
  "cells": [
    {
      "cell_type": "markdown",
      "source": [
        "# 암호 해독"
      ],
      "metadata": {
        "id": "EsLk-ZzhzVVV"
      }
    },
    {
      "cell_type": "code",
      "source": [
        "# https://school.programmers.co.kr/learn/courses/30/lessons/120892"
      ],
      "metadata": {
        "id": "8TNb4BL61FBe"
      },
      "execution_count": null,
      "outputs": []
    },
    {
      "cell_type": "code",
      "execution_count": null,
      "metadata": {
        "id": "w-LXwIZhzRai"
      },
      "outputs": [],
      "source": [
        "# 군 전략가 머쓱이는 전쟁 중 적군이 다음과 같은 암호 체계를 사용한다는 것을 알아냈습니다.\n",
        "# 암호화된 문자열 cipher를 주고받습니다.\n",
        "# 그 문자열에서 code의 배수 번째 글자만 진짜 암호입니다.\n",
        "# 문자열 cipher와 정수 code가 매개변수로 주어질 때 해독된 암호 문자열을 return하도록 solution 함수를 완성해주세요."
      ]
    },
    {
      "cell_type": "code",
      "source": [
        "def solution(cipher, code):\n",
        "    answer = []\n",
        "    for i in range(len(cipher)+1):\n",
        "        if i * code <= len(cipher):\n",
        "            answer.append(cipher[i * code - 1])\n",
        "    answer = (answer[1:])\n",
        "    return ''.join(answer)   "
      ],
      "metadata": {
        "id": "I74YKKRHzc2x"
      },
      "execution_count": null,
      "outputs": []
    },
    {
      "cell_type": "markdown",
      "source": [
        "# 대문자와 소문자"
      ],
      "metadata": {
        "id": "Ql-jjsZV00Se"
      }
    },
    {
      "cell_type": "code",
      "source": [
        "# https://school.programmers.co.kr/learn/courses/30/lessons/120893"
      ],
      "metadata": {
        "id": "0mNpD7lF078l"
      },
      "execution_count": null,
      "outputs": []
    },
    {
      "cell_type": "code",
      "source": [
        "# 문자열 my_string이 매개변수로 주어질 때, 대문자는 소문자로 소문자는 대문자로 변환한 문자열을 return하도록 solution 함수를 완성해주세요."
      ],
      "metadata": {
        "id": "1Jckv4qZ02HU"
      },
      "execution_count": null,
      "outputs": []
    },
    {
      "cell_type": "code",
      "source": [
        "def solution(my_string):\n",
        "    answer = ''\n",
        "    for i in range(len(my_string)):\n",
        "        if my_string[i].isupper():\n",
        "            answer = answer + my_string[i].lower()\n",
        "        else:\n",
        "            answer = answer + my_string[i].upper()\n",
        "    return answer"
      ],
      "metadata": {
        "id": "3MDkZuzl0-9f"
      },
      "execution_count": null,
      "outputs": []
    }
  ]
}