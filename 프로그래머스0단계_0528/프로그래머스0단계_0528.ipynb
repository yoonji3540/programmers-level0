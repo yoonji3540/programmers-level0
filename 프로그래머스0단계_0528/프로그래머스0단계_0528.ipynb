{
  "nbformat": 4,
  "nbformat_minor": 0,
  "metadata": {
    "colab": {
      "provenance": []
    },
    "kernelspec": {
      "name": "python3",
      "display_name": "Python 3"
    },
    "language_info": {
      "name": "python"
    }
  },
  "cells": [
    {
      "cell_type": "code",
      "execution_count": null,
      "metadata": {
        "id": "3nqDvLC30pmU"
      },
      "outputs": [],
      "source": [
        "# 제곱수 판별하기\n",
        "# 어떤 자연수를 제곱했을 때 나오는 정수를 제곱수라고 합니다.\n",
        "# 정수 n이 매개변수로 주어질 때, n이 제곱수라면 1을 아니라면 2를 return하도록 solution 함수를 완성해주세요.\n",
        "\n",
        "def solution(n): \n",
        "    if int(n ** 0.5) ** 2 == n:\n",
        "        return 1\n",
        "    else:\n",
        "        return 2"
      ]
    }
  ]
}