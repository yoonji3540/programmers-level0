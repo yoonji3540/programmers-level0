{
  "nbformat": 4,
  "nbformat_minor": 0,
  "metadata": {
    "colab": {
      "provenance": []
    },
    "kernelspec": {
      "name": "python3",
      "display_name": "Python 3"
    },
    "language_info": {
      "name": "python"
    }
  },
  "cells": [
    {
      "cell_type": "code",
      "source": [
        "# 정수 배열 numbers와 정수 n이 매개변수로 주어집니다. numbers의 원소를 앞에서부터 하나씩 더하다가 그 합이 n보다 커지는 순간 이때까지 더했던 원소들의 합을 return 하는 solution 함수를 작성해 주세요.\n",
        "\n",
        "def solution(numbers, n):\n",
        "    total = 0  # 더한 원소들의 합\n",
        "    for num in numbers:\n",
        "        total += num\n",
        "        if total > n:\n",
        "            return total  # 합이 n을 초과하는 시점에서 그 이전 원소들의 합을 반환\n",
        "    "
      ],
      "metadata": {
        "id": "PVwGwnCjdhF5"
      },
      "execution_count": null,
      "outputs": []
    },
    {
      "cell_type": "code",
      "source": [
        "# 짝수의 합\n",
        "# 정수 n이 주어질 때, n이하의 짝수를 모두 더한 값을 return 하도록 solution 함수를 작성해주세요.\n",
        "\n",
        "def solution(n):\n",
        "    answer = 0\n",
        "    for i in range(0, n+1, 2):\n",
        "        answer += i\n",
        "    return answer"
      ],
      "metadata": {
        "id": "Xg3DSXmzfIX9"
      },
      "execution_count": null,
      "outputs": []
    },
    {
      "cell_type": "code",
      "source": [
        "# 배열의 평균값\n",
        "# 정수 배열 numbers가 매개변수로 주어집니다. numbers의 원소의 평균값을 return하도록 solution 함수를 완성해주세요.\n",
        "\n",
        "def solution(numbers):\n",
        "    answer = sum(numbers) / len(numbers)\n",
        "    return answer"
      ],
      "metadata": {
        "id": "aRNGZw28fgDH"
      },
      "execution_count": null,
      "outputs": []
    },
    {
      "cell_type": "code",
      "source": [
        "# 배열 두배 만들기\n",
        "# 정수 배열 numbers가 매개변수로 주어집니다. numbers의 각 원소에 두배한 원소를 가진 배열을 return하도록 solution 함수를 완성해주세요.\n",
        "\n",
        "def solution(numbers):\n",
        "    answer = []\n",
        "    for i in numbers:\n",
        "        answer.append(i * 2)\n",
        "    return answer"
      ],
      "metadata": {
        "id": "bCvrXaK1fjf4"
      },
      "execution_count": null,
      "outputs": []
    },
    {
      "cell_type": "code",
      "source": [
        "# 배열 원소의 길이\n",
        "# 문자열 배열 strlist가 매개변수로 주어집니다. strlist 각 원소의 길이를 담은 배열을 retrun하도록 solution 함수를 완성해주세요.\n",
        "\n",
        "def solution(strlist):\n",
        "    lenght = []\n",
        "    for i in strlist:\n",
        "        lenght.append(len(i))\n",
        "    return lenght\n",
        "    "
      ],
      "metadata": {
        "id": "N6RFphvzLmIH"
      },
      "execution_count": null,
      "outputs": []
    },
    {
      "cell_type": "code",
      "source": [
        "# 특정 문자 제거하기\n",
        "# 문자열 my_string과 문자 letter이 매개변수로 주어집니다. my_string에서 letter를 제거한 문자열을 return하도록 solution 함수를 완성해주세요.\n",
        "\n",
        "def solution(my_string, letter):\n",
        "    return my_string.replace(letter, '')"
      ],
      "metadata": {
        "id": "QXwu37awOE9H"
      },
      "execution_count": null,
      "outputs": []
    },
    {
      "cell_type": "code",
      "source": [
        "# 문자열 뒤집기\n",
        "# 문자열 my_string이 매개변수로 주어집니다. my_string을 거꾸로 뒤집은 문자열을 return하도록 solution 함수를 완성해주세요.\n",
        "\n",
        "def solution(my_string):\n",
        "    return my_string[::-1]"
      ],
      "metadata": {
        "id": "0SLgOJb9P2QV"
      },
      "execution_count": null,
      "outputs": []
    },
    {
      "cell_type": "code",
      "source": [
        "# 중복된 숫자 개수\n",
        "# 정수가 담긴 배열 array와 정수 n이 매개변수로 주어질 때, array에 n이 몇 개 있는 지를 return 하도록 solution 함수를 완성해보세요.\n",
        "\n",
        "def solution(array, n):\n",
        "    answer = array.count(n)\n",
        "    return answer"
      ],
      "metadata": {
        "id": "V7v-4t1yyVeS"
      },
      "execution_count": null,
      "outputs": []
    },
    {
      "cell_type": "code",
      "source": [
        "# 피자 나눠 먹기 (1)\n",
        "# 머쓱이네 피자가게는 피자를 일곱 조각으로 잘라 줍니다. 피자를 나눠먹을 사람의 수 n이 주어질 때, 모든 사람이 피자를 한 조각 이상 먹기 위해 필요한 피자의 수를 return 하는 solution 함수를 완성해보세요.\n",
        "\n",
        "def solution(n):\n",
        "    if n % 7 == 0:\n",
        "        answer = n//7\n",
        "    else:\n",
        "        answer = n//7 + 1   \n",
        "    return answer"
      ],
      "metadata": {
        "id": "wBGtgImzyh0K"
      },
      "execution_count": null,
      "outputs": []
    },
    {
      "cell_type": "code",
      "source": [
        "# 점의 위치 구하기\n",
        "# 사분면은 한 평면을 x축과 y축을 기준으로 나눈 네 부분입니다. 사분면은 아래와 같이 1부터 4까지 번호를매깁니다.\n",
        "# x 좌표와 y 좌표가 모두 양수이면 제1사분면에 속합니다.\n",
        "# x 좌표가 음수, y 좌표가 양수이면 제2사분면에 속합니다.\n",
        "# x 좌표와 y 좌표가 모두 음수이면 제3사분면에 속합니다.\n",
        "# x 좌표가 양수, y 좌표가 음수이면 제4사분면에 속합니다.\n",
        "# x 좌표 (x, y)를 차례대로 담은 정수 배열 dot이 매개변수로 주어집니다. 좌표 dot이 사분면 중 어디에 속하는지 1, 2, 3, 4 중 하나를 return 하도록 solution 함수를 완성해주세요.\n",
        "\n",
        "def solution(dot):\n",
        "    if dot[0] > 0 and dot[1] > 0 :\n",
        "        answer = 1\n",
        "    elif dot[0] < 0 and dot[1] > 0 :\n",
        "        answer = 2\n",
        "    elif dot[0] < 0 and dot[1] < 0 :\n",
        "        answer = 3\n",
        "    elif dot[0] > 0 and dot[1] < 0 :\n",
        "        answer = 4\n",
        "    return answer"
      ],
      "metadata": {
        "id": "8XbBcEGWym2D"
      },
      "execution_count": null,
      "outputs": []
    },
    {
      "cell_type": "code",
      "source": [
        "# 짝수 홀수 개수\n",
        "# 정수가 담긴 리스트 num_list가 주어질 때, num_list의 원소 중 짝수와 홀수의 개수를 담은 배열을 return 하도록 solution 함수를 완성해보세요.\n",
        "\n",
        "def solution(num_list):\n",
        "    even_count = 0\n",
        "    odd_count = 0\n",
        "    for i in num_list:\n",
        "        if i % 2 == 0:\n",
        "            even_count += 1\n",
        "        if i % 2 == 1:\n",
        "            odd_count += 1\n",
        "    return [even_count , odd_count]\n",
        "        "
      ],
      "metadata": {
        "id": "c4WFCMOE1UGx"
      },
      "execution_count": null,
      "outputs": []
    }
  ]
}