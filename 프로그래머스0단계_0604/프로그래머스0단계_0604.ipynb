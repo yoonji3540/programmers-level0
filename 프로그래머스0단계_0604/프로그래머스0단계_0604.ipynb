{
  "nbformat": 4,
  "nbformat_minor": 0,
  "metadata": {
    "colab": {
      "provenance": []
    },
    "kernelspec": {
      "name": "python3",
      "display_name": "Python 3"
    },
    "language_info": {
      "name": "python"
    }
  },
  "cells": [
    {
      "cell_type": "markdown",
      "source": [
        "# 369 게임"
      ],
      "metadata": {
        "id": "JiYrOnlWjD4D"
      }
    },
    {
      "cell_type": "code",
      "source": [
        "# 머쓱이는 친구들과 369게임을 하고 있습니다.\n",
        "# 369게임은 1부터 숫자를 하나씩 대며 3, 6, 9가 들어가는 숫자는 숫자 대신 3, 6, 9의 개수만큼 박수를 치는 게임입니다.\n",
        "# 머쓱이가 말해야하는 숫자 order가 매개변수로 주어질 때, 머쓱이가 쳐야할 박수 횟수를 return 하도록 solution 함수를 완성해보세요."
      ],
      "metadata": {
        "id": "MxjtK9jojHj3"
      },
      "execution_count": null,
      "outputs": []
    },
    {
      "cell_type": "code",
      "source": [
        "def solution(order):\n",
        "    order = str(order)\n",
        "    number3 = order.count('3')\n",
        "    number6 = order.count('6')\n",
        "    number9 = order.count('9')\n",
        "    answer = number3 + number6 + number9\n",
        "    return answer"
      ],
      "metadata": {
        "id": "iUVWGQsBjK0y"
      },
      "execution_count": null,
      "outputs": []
    },
    {
      "cell_type": "markdown",
      "source": [
        "# 가까운 수"
      ],
      "metadata": {
        "id": "7KzLuwunpGOt"
      }
    },
    {
      "cell_type": "code",
      "source": [
        "# 정수 배열 array와 정수 n이 매개변수로 주어질 때,\n",
        "# array에 들어있는 정수 중 n과 가장 가까운 수를 return 하도록 solution 함수를 완성해주세요.\n",
        "# 가장 가까운 수가 여러 개일 경우 더 작은 수를 return 합니다."
      ],
      "metadata": {
        "id": "B2IvXfqLpI90"
      },
      "execution_count": null,
      "outputs": []
    },
    {
      "cell_type": "code",
      "source": [
        "def solution(array, n):\n",
        "    answer = None\n",
        "    sub = float('inf')\n",
        "    for i in array:\n",
        "        if abs(n - i) < abs(sub):\n",
        "            sub = abs(n - i)\n",
        "            answer = i\n",
        "        if abs(n - i) == abs(sub):\n",
        "            if i < answer:\n",
        "                answer = i\n",
        "    return answer"
      ],
      "metadata": {
        "id": "8EVOLUoTpOZ5"
      },
      "execution_count": null,
      "outputs": []
    }
  ]
}