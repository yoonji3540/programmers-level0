{
  "nbformat": 4,
  "nbformat_minor": 0,
  "metadata": {
    "colab": {
      "provenance": []
    },
    "kernelspec": {
      "name": "python3",
      "display_name": "Python 3"
    },
    "language_info": {
      "name": "python"
    }
  },
  "cells": [
    {
      "cell_type": "code",
      "source": [
        "# 컨트롤 제트\n",
        "# 숫자와 \"Z\"가 공백으로 구분되어 담긴 문자열이 주어집니다.\n",
        "# 문자열에 있는 숫자를 차례대로 더하려고 합니다.\n",
        "# 이 때 \"Z\"가 나오면 바로 전에 더했던 숫자를 뺀다는 뜻입니다.\n",
        "# 숫자와 \"Z\"로 이루어진 문자열 s가 주어질 때, 머쓱이가 구한 값을 return 하도록 solution 함수를 완성해보세요.\n",
        "\n",
        "def solution(s):\n",
        "    answer = 0\n",
        "    s_list = s.split()\n",
        "    for i in range(len(s_list)):\n",
        "        if s_list[i] == 'Z':\n",
        "            answer -= int(s_list[i-1])\n",
        "        else:\n",
        "            answer += int(s_list[i])\n",
        "    return answer"
      ],
      "metadata": {
        "id": "fIpDVjUetsKx"
      },
      "execution_count": null,
      "outputs": []
    },
    {
      "cell_type": "code",
      "source": [
        "# 중복된 문자 제거\n",
        "# 문자열 my_string이 매개변수로 주어집니다.\n",
        "# my_string에서 중복된 문자를 제거하고 하나의 문자만 남긴 문자열을 return하도록 solution 함수를 완성해주세요.\n",
        "\n",
        "def solution(my_string):\n",
        "    answer = ''\n",
        "    for i in my_string:\n",
        "        if i not in answer:\n",
        "            answer += i\n",
        "    return answer"
      ],
      "metadata": {
        "id": "YzGTlFtozEKQ"
      },
      "execution_count": null,
      "outputs": []
    }
  ]
}