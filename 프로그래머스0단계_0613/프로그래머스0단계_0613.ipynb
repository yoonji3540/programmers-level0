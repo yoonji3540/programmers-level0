{
  "nbformat": 4,
  "nbformat_minor": 0,
  "metadata": {
    "colab": {
      "provenance": []
    },
    "kernelspec": {
      "name": "python3",
      "display_name": "Python 3"
    },
    "language_info": {
      "name": "python"
    }
  },
  "cells": [
    {
      "cell_type": "markdown",
      "source": [
        "# 세균 증식"
      ],
      "metadata": {
        "id": "4naKm-3Sb8J9"
      }
    },
    {
      "cell_type": "code",
      "execution_count": null,
      "metadata": {
        "id": "MT6gn3rcb7Kc"
      },
      "outputs": [],
      "source": [
        "# 어떤 세균은 1시간에 두배만큼 증식한다고 합니다.\n",
        "# 처음 세균의 마리수 n과 경과한 시간 t가 매개변수로 주어질 때 t시간 후 세균의 수를 return하도록 solution 함수를 완성해주세요."
      ]
    },
    {
      "cell_type": "code",
      "source": [
        "def solution(n, t):\n",
        "    answer = n * 2 ** t\n",
        "    return answer"
      ],
      "metadata": {
        "id": "dserXt1kcDHc"
      },
      "execution_count": null,
      "outputs": []
    },
    {
      "cell_type": "markdown",
      "source": [
        "# 최댓값 만들기(2)"
      ],
      "metadata": {
        "id": "-WqS6-M7fkbX"
      }
    },
    {
      "cell_type": "code",
      "source": [
        "# 정수 배열 numbers가 매개변수로 주어집니다.\n",
        "# numbers의 원소 중 두 개를 곱해 만들 수 있는 최댓값을 return하도록 solution 함수를 완성해주세요."
      ],
      "metadata": {
        "id": "hPKyv5wMfovg"
      },
      "execution_count": null,
      "outputs": []
    },
    {
      "cell_type": "code",
      "source": [
        "def solution(numbers):\n",
        "    numbers.sort(reverse=False)\n",
        "    return max(numbers[0] * numbers[1],numbers[-1] * numbers[-2])"
      ],
      "metadata": {
        "id": "GbgadMaWfq7s"
      },
      "execution_count": null,
      "outputs": []
    }
  ]
}