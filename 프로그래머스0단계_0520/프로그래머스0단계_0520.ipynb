{
  "nbformat": 4,
  "nbformat_minor": 0,
  "metadata": {
    "colab": {
      "provenance": []
    },
    "kernelspec": {
      "name": "python3",
      "display_name": "Python 3"
    },
    "language_info": {
      "name": "python"
    }
  },
  "cells": [
    {
      "cell_type": "code",
      "execution_count": null,
      "metadata": {
        "id": "PKD5iMXR1fIm"
      },
      "outputs": [],
      "source": [
        "# 주사위의 개수\n",
        "# 머쓱이는 직육면체 모양의 상자를 하나 가지고 있는데 이 상자에 정육면체 모양의 주사위를 최대한 많이 채우고 싶습니다.\n",
        "# 상자의 가로, 세로, 높이가 저장되어있는 배열 box와 주사위 모서리의 길이 정수 n이 매개변수로 주어졌을 때,\n",
        "# 상자에 들어갈 수 있는 주사위의 최대 개수를 return 하도록 solution 함수를 완성해주세요.\n",
        "\n",
        "def solution(box, n):\n",
        "    a = box[0] // n\n",
        "    b = box[1] // n\n",
        "    c = box[2] // n\n",
        "    answer = a * b * c\n",
        "    return answer"
      ]
    },
    {
      "cell_type": "code",
      "source": [
        "# 합성수 찾기\n",
        "# 약수의 개수가 세 개 이상인 수를 합성수라고 합니다.\n",
        "# 자연수 n이 매개변수로 주어질 때 n이하의 합성수의 개수를 return하도록 solution 함수를 완성해주세요.\n",
        "\n",
        "def solution(n):\n",
        "    answer = 0\n",
        "    num = []\n",
        "    for i in range(2,n+1):\n",
        "        for j in range(1,i+1):\n",
        "            if i % j == 0:\n",
        "                num.append(i)\n",
        "        if num.count(i) >= 3:\n",
        "            answer += 1\n",
        "                \n",
        "    return answer"
      ],
      "metadata": {
        "id": "fREq5XUXIjbe"
      },
      "execution_count": null,
      "outputs": []
    }
  ]
}