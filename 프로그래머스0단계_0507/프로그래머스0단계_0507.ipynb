{
  "nbformat": 4,
  "nbformat_minor": 0,
  "metadata": {
    "colab": {
      "provenance": []
    },
    "kernelspec": {
      "name": "python3",
      "display_name": "Python 3"
    },
    "language_info": {
      "name": "python"
    }
  },
  "cells": [
    {
      "cell_type": "code",
      "source": [
        "# 중앙값 구하기\n",
        "# 중앙값은 어떤 주어진 값들을 크기의 순서대로 정렬했을 때 가장 중앙에 위치하는 값을 의미합니다. \n",
        "# 예를 들어 1, 2, 7, 10, 11의 중앙값은 7입니다.\n",
        "# 정수 배열 array가 매개변수로 주어질 때, 중앙값을 return 하도록 solution 함수를 완성해보세요.\n",
        "\n",
        "def solution(array):\n",
        "    list = sorted(array)\n",
        "    a = len(list)\n",
        "    answer = list[a//2]\n",
        "    return answer"
      ],
      "metadata": {
        "id": "j4XbYwUDHMwa"
      },
      "execution_count": null,
      "outputs": []
    },
    {
      "cell_type": "code",
      "source": [
        "# 최빈값 구하기\n",
        "# 최빈값은 주어진 값 중에서 가장 자주 나오는 값을 의미합니다.\n",
        "# 정수 배열 array가 매개변수로 주어질 때, 최빈값을 return 하도록 solution 함수를 완성해보세요.\n",
        "#  최빈값이 여러 개면 -1을 return 합니다.\n",
        "\n",
        "def solution(array):\n",
        "    freq = 0 # 출현 횟수를 저장할 변수\n",
        "    number = -1 # 최빈값을 저장할 변수 \n",
        "    for i in array: \n",
        "        if array.count(i) > freq: \n",
        "            freq = array.count(i)\n",
        "            number = i\n",
        "        elif array.count(i) == freq:\n",
        "            if i != number:\n",
        "                number = -1\n",
        "            else:\n",
        "                number = i    \n",
        "    return number"
      ],
      "metadata": {
        "id": "Up__EBvEHU5e"
      },
      "execution_count": null,
      "outputs": []
    },
    {
      "cell_type": "code",
      "source": [
        "# 짝수는 싫어요\n",
        "# 정수 n이 매개변수로 주어질 때, n 이하의 홀수가 오름차순으로 담긴 배열을 return하도록 solution 함수를 완성해주세요.\n",
        "\n",
        "def solution(n):\n",
        "    list = []\n",
        "    for i in range(1,n+1):\n",
        "        if i % 2 == 1:\n",
        "            list.append(i)\n",
        "    return list"
      ],
      "metadata": {
        "id": "jUd4gxc-2mRJ"
      },
      "execution_count": null,
      "outputs": []
    },
    {
      "cell_type": "code",
      "source": [
        "# 피자 나눠 먹기 (2)\n",
        "# 머쓱이네 피자가게는 피자를 여섯 조각으로 잘라 줍니다.\n",
        "# 피자를 나눠먹을 사람의 수 n이 매개변수로 주어질 때, n명이 주문한 피자를 남기지 않고 모두 같은 수의 피자 조각을 먹어야 한다면\n",
        "# 최소 몇 판을 시켜야 하는지를 return 하도록 solution 함수를 완성해보세요.\n",
        "\n",
        "def solution(n):\n",
        "    if n % 6 == 0:\n",
        "        answer = n // 6\n",
        "    elif n % 3 == 0:\n",
        "        answer = (2 * n) // 6\n",
        "    elif n % 2 == 0:\n",
        "        answer = (3 * n) // 6\n",
        "    else:\n",
        "        answer = n\n",
        "    \n",
        "    return answer"
      ],
      "metadata": {
        "id": "yV2qkd3K6PZ3"
      },
      "execution_count": null,
      "outputs": []
    },
    {
      "cell_type": "code",
      "source": [
        "# 피자 나눠 먹기 (3)\n",
        "# 머쓱이네 피자가게는 피자를 두 조각에서 열 조각까지 원하는 조각 수로 잘라줍니다.\n",
        "# 피자 조각 수 slice와 피자를 먹는 사람의 수 n이 매개변수로 주어질 때, \n",
        "# n명의 사람이 최소 한 조각 이상 피자를 먹으려면 최소 몇 판의 피자를 시켜야 하는지를 return 하도록 solution 함수를 완성해보세요.\n",
        "\n",
        "def solution(slice, n):\n",
        "    if n % slice == 0:\n",
        "        answer = n // slice\n",
        "    else:\n",
        "        answer = (n // slice) + 1\n",
        "    return answer"
      ],
      "metadata": {
        "id": "rv0GBcID7Z9P"
      },
      "execution_count": 1,
      "outputs": []
    },
    {
      "cell_type": "code",
      "source": [
        "# 머쓱이보다 키 큰 사람\n",
        "# 머쓱이는 학교에서 키 순으로 줄을 설 때 몇 번째로 서야 하는지 궁금해졌습니다.\n",
        "# 머쓱이네 반 친구들의 키가 담긴 정수 배열 array와 머쓱이의 키 height가 매개변수로 주어질 때,\n",
        "# 머쓱이보다 키 큰 사람 수를 return 하도록 solution 함수를 완성해보세요.\n",
        "\n",
        "def solution(array, height):\n",
        "    count = 0\n",
        "    for i in array:\n",
        "        if i > height:\n",
        "            count += 1\n",
        "    return count"
      ],
      "metadata": {
        "id": "Z73C2ipv7iK2"
      },
      "execution_count": null,
      "outputs": []
    },
    {
      "cell_type": "code",
      "source": [
        "# 모음 제거\n",
        "# 영어에선 a, e, i, o, u 다섯 가지 알파벳을 모음으로 분류합니다.\n",
        "# 문자열 my_string이 매개변수로 주어질 때 모음을 제거한 문자열을 return하도록 solution 함수를 완성해주세요.\n",
        "\n",
        "def solution(my_string):\n",
        "    모음 = ['a', 'e', 'i', 'o', 'u']\n",
        "    for 제거 in 모음:\n",
        "        my_string = my_string.replace(제거,'')\n",
        "    return my_string"
      ],
      "metadata": {
        "id": "pDf-n3de9FIR"
      },
      "execution_count": null,
      "outputs": []
    },
    {
      "cell_type": "code",
      "source": [
        "# 옷가게 할인 받기\n",
        "# 머쓱이네 옷가게는 10만 원 이상 사면 5%, 30만 원 이상 사면 10%, 50만 원 이상 사면 20%를 할인해줍니다.\n",
        "# 구매한 옷의 가격 price가 주어질 때, 지불해야 할 금액을 return 하도록 solution 함수를 완성해보세요.\n",
        "\n",
        "def solution(price):\n",
        "    if price >= 500000:\n",
        "        answer = int(price * 0.8)\n",
        "    elif price >= 300000:\n",
        "        answer = int(price * 0.9)\n",
        "    elif price >= 100000:\n",
        "        answer = int(price * 0.95)\n",
        "    else:\n",
        "        answer = price\n",
        "    return answer"
      ],
      "metadata": {
        "id": "n37otDoOBjMH"
      },
      "execution_count": null,
      "outputs": []
    },
    {
      "cell_type": "code",
      "source": [
        "# 아이스 아메리카노\n",
        "# 머쓱이는 추운 날에도 아이스 아메리카노만 마십니다.\n",
        "# 아이스 아메리카노는 한잔에 5,500원입니다.\n",
        "# 머쓱이가 가지고 있는 돈 money가 매개변수로 주어질 때,\n",
        "# 머쓱이가 최대로 마실 수 있는 아메리카노의 잔 수와 남는 돈을 순서대로 담은 배열을 return 하도록 solution 함수를 완성해보세요.\n",
        "\n",
        "def solution(money):\n",
        "    num = money // 5500\n",
        "    잔돈 = money - 5500 * num\n",
        "    answer = [num, 잔돈]\n",
        "    return answer"
      ],
      "metadata": {
        "id": "ccIepc0uEPtp"
      },
      "execution_count": null,
      "outputs": []
    },
    {
      "cell_type": "code",
      "source": [
        "# 문자 반복 출력하기\n",
        "# 문자열 my_string과 정수 n이 매개변수로 주어질 때, my_string에 들어있는 각 문자를 n만큼 반복한 문자열을 return 하도록 solution 함수를 완성해보세요.\n",
        "# 예시 my_string = \"hello\", n = 3 결과값:\"hhheeellllllooo\"\n",
        "\n",
        "def solution(my_string, n):\n",
        "    answer = ''\n",
        "    for i in my_string:\n",
        "        answer += i * n\n",
        "    return answer"
      ],
      "metadata": {
        "id": "7NV3t8pLEXiO"
      },
      "execution_count": null,
      "outputs": []
    },
    {
      "cell_type": "code",
      "source": [
        "# 배열의 유사도\n",
        "# 두 배열이 얼마나 유사한지 확인해보려고 합니다. 문자열 배열 s1과 s2가 주어질 때 같은 원소의 개수를 return하도록 solution 함수를 완성해주세요.\n",
        "\n",
        "def solution(s1, s2):\n",
        "    count = 0\n",
        "    for i in s1:\n",
        "        for j in s2:\n",
        "            if i == j:\n",
        "                count += 1\n",
        "    return count"
      ],
      "metadata": {
        "id": "5fEDvRs7Hr-Y"
      },
      "execution_count": null,
      "outputs": []
    },
    {
      "cell_type": "code",
      "source": [
        "# 자릿수 더하기\n",
        "# 정수 n이 매개변수로 주어질 때 n의 각 자리 숫자의 합을 return하도록 solution 함수를 완성해주세요\n",
        "\n",
        "def solution(n):\n",
        "    자릿수 = 0\n",
        "    값 = 0\n",
        "    copy_n = n\n",
        "#     자릿수 구하기\n",
        "    while n > 0:\n",
        "        n = n // 10\n",
        "        자릿수 += 1\n",
        "        \n",
        "# 각 자릿수별로 더하기\n",
        "    for i in range(자릿수):\n",
        "        값 += copy_n // (10 ** i) % 10\n",
        "    return 값"
      ],
      "metadata": {
        "id": "4A-z6-3oY36f"
      },
      "execution_count": null,
      "outputs": []
    }
  ]
}